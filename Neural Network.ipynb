{
 "cells": [
  {
   "cell_type": "code",
   "execution_count": 3,
   "id": "4914a950",
   "metadata": {},
   "outputs": [],
   "source": [
    "import tensorflow as tf\n",
    "from tensorflow.keras.models import Sequential\n",
    "#from tensorflow.keras.applications.mobilenet_v2 import MobileNetV2,preprocess_input\n",
    "from keras.applications import VGG16\n",
    "\n",
    "from tensorflow.keras.layers import Input,GlobalMaxPooling2D, Dense, Flatten\n",
    "from tensorflow.keras.preprocessing.image import img_to_array,load_img\n",
    "\n",
    "import numpy as np\n",
    "import matplotlib.pyplot as plt\n",
    "#from cv2 import resize\n",
    "from os import path, listdir"
   ]
  },
  {
   "cell_type": "code",
   "execution_count": null,
   "id": "5015ef87",
   "metadata": {},
   "outputs": [],
   "source": [
    "model = VGG16(weights='imagenet',\n",
    "            include_top=False,\n",
    "            Input(shape=(None,None,3))\n",
    ")\n",
    "model.add(GlobalMaxPooling2D()) \n",
    "model.add(Flatten())\n",
    "model.add(Dense(32, activation='relu'))\n",
    "model.add(Dense(3, activation='softmax'))\n",
    "\n",
    "GlobalMaxPooling2D"
   ]
  },
  {
   "cell_type": "code",
   "execution_count": null,
   "id": "2472c37e",
   "metadata": {},
   "outputs": [],
   "source": [
    "inputs = Input(shape=(None,None,3))\n",
    "model = VGG16(weights='imagenet',\n",
    "            include_top=False,\n",
    "            Input(shape=(None,None,3))\n",
    ")\n",
    "\n",
    "model.add(Dense(32, activation='relu'))\n",
    "model.add(Dense(3, activation='softmax'))"
   ]
  },
  {
   "cell_type": "code",
   "execution_count": null,
   "id": "cd9a31cd",
   "metadata": {},
   "outputs": [],
   "source": [
    "compile(\n",
    "    optimizer='adam',\n",
    "    loss=\"accuracy\",\n",
    "    metrics=[\"sparse_categorical_crossentropy\", \"accuracy\"],\n",
    ")"
   ]
  }
 ],
 "metadata": {
  "kernelspec": {
   "display_name": "Python 3 (ipykernel)",
   "language": "python",
   "name": "python3"
  },
  "language_info": {
   "codemirror_mode": {
    "name": "ipython",
    "version": 3
   },
   "file_extension": ".py",
   "mimetype": "text/x-python",
   "name": "python",
   "nbconvert_exporter": "python",
   "pygments_lexer": "ipython3",
   "version": "3.8.11"
  }
 },
 "nbformat": 4,
 "nbformat_minor": 5
}
